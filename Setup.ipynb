{
 "cells": [
  {
   "cell_type": "code",
   "execution_count": 1,
   "id": "804ff92f-9861-4af4-a6ce-574a2a204fc9",
   "metadata": {},
   "outputs": [],
   "source": [
    "EDGE_SITE = \"CHI@Edge\"\n",
    "PROJECT_ID = \"Chameleon\"\n",
    "\n",
    "OBSERVER_DEVICE_NAME = \"iot-rpi-cm4-02\"\n",
    "OBSERVER_LEASE_NAME = f\"observer-{OBSERVER_DEVICE_NAME}\"\n",
    "\n",
    "MEASURED_DEVICE_NAME = \"iot-rpi-cm4-01\"\n",
    "MEASURED_LEASE_NAME = f\"measured-{MEASURED_DEVICE_NAME}\"\n",
    "\n",
    "SSH_CONNECTION = \"cc@129.114.27.80\"\n",
    "SSH_OPTIONS = \"-o StrictHostKeyChecking=no -i /id_rsa\""
   ]
  },
  {
   "cell_type": "code",
   "execution_count": 2,
   "id": "bf95ad2a-ca37-43f3-9bcf-61cf8efe6b91",
   "metadata": {},
   "outputs": [
    {
     "name": "stdout",
     "output_type": "stream",
     "text": [
      "Now using CHI@Edge:\n",
      "URL: https://chi.edge.chameleoncloud.org\n",
      "Location: University of Chicago, Chicago, Illinois, USA\n",
      "Support contact: help@chameleoncloud.org\n"
     ]
    }
   ],
   "source": [
    "import time\n",
    "\n",
    "import chi\n",
    "chi.set(\"project_name\", PROJECT_ID)\n",
    "chi.use_site(EDGE_SITE)\n",
    "\n",
    "from chi import lease\n",
    "from chi import server\n",
    "from chi import container"
   ]
  },
  {
   "cell_type": "markdown",
   "id": "9f697c7c-ae01-4d6f-aa35-d154d3e3531c",
   "metadata": {},
   "source": [
    "## Reserve observer-device and measured-device"
   ]
  },
  {
   "cell_type": "code",
   "execution_count": 3,
   "id": "7107656f-c8e8-4b68-b2fb-e7375c75c5fc",
   "metadata": {},
   "outputs": [
    {
     "name": "stderr",
     "output_type": "stream",
     "text": [
      "error: not enough resources available with query {'resource_type': 'device', 'min': 1, 'max': 1, 'resource_properties': '[\"==\", \"$name\", \"iot-rpi-cm4-02\"]', 'start_date': datetime.datetime(2023, 4, 24, 21, 25), 'end_date': datetime.datetime(2023, 5, 1, 21, 24), 'project_id': 'a5f0758da4a5404bbfcef0a64206614c', 'count_range': '1-1', 'before_end': 'default', 'on_start': 'default'}\n",
      "error: not enough resources available with query {'resource_type': 'device', 'min': 1, 'max': 1, 'resource_properties': '[\"==\", \"$name\", \"iot-rpi-cm4-01\"]', 'start_date': datetime.datetime(2023, 4, 24, 21, 25), 'end_date': datetime.datetime(2023, 5, 1, 21, 24), 'project_id': 'a5f0758da4a5404bbfcef0a64206614c', 'count_range': '1-1', 'before_end': 'default', 'on_start': 'default'}\n"
     ]
    },
    {
     "ename": "TypeError",
     "evalue": "'NoneType' object is not subscriptable",
     "output_type": "error",
     "traceback": [
      "\u001b[0;31m---------------------------------------------------------------------------\u001b[0m",
      "\u001b[0;31mTypeError\u001b[0m                                 Traceback (most recent call last)",
      "\u001b[0;32m/tmp/ipykernel_217/3973090682.py\u001b[0m in \u001b[0;36m<cell line: 17>\u001b[0;34m()\u001b[0m\n\u001b[1;32m     15\u001b[0m     \u001b[0mmeasured_lease\u001b[0m \u001b[0;34m=\u001b[0m \u001b[0mlease\u001b[0m\u001b[0;34m.\u001b[0m\u001b[0mcreate_lease\u001b[0m\u001b[0;34m(\u001b[0m\u001b[0mMEASURED_LEASE_NAME\u001b[0m\u001b[0;34m,\u001b[0m \u001b[0mmeasured_reservation\u001b[0m\u001b[0;34m,\u001b[0m \u001b[0mstart_date\u001b[0m\u001b[0;34m=\u001b[0m\u001b[0mstart\u001b[0m\u001b[0;34m,\u001b[0m \u001b[0mend_date\u001b[0m\u001b[0;34m=\u001b[0m\u001b[0mend\u001b[0m\u001b[0;34m)\u001b[0m\u001b[0;34m\u001b[0m\u001b[0;34m\u001b[0m\u001b[0m\n\u001b[1;32m     16\u001b[0m \u001b[0;34m\u001b[0m\u001b[0m\n\u001b[0;32m---> 17\u001b[0;31m \u001b[0mlease\u001b[0m\u001b[0;34m.\u001b[0m\u001b[0mwait_for_active\u001b[0m\u001b[0;34m(\u001b[0m\u001b[0mobserver_lease\u001b[0m\u001b[0;34m[\u001b[0m\u001b[0;34m\"id\"\u001b[0m\u001b[0;34m]\u001b[0m\u001b[0;34m)\u001b[0m\u001b[0;34m\u001b[0m\u001b[0;34m\u001b[0m\u001b[0m\n\u001b[0m\u001b[1;32m     18\u001b[0m \u001b[0mlease\u001b[0m\u001b[0;34m.\u001b[0m\u001b[0mwait_for_active\u001b[0m\u001b[0;34m(\u001b[0m\u001b[0mmeasured_lease\u001b[0m\u001b[0;34m[\u001b[0m\u001b[0;34m\"id\"\u001b[0m\u001b[0;34m]\u001b[0m\u001b[0;34m)\u001b[0m\u001b[0;34m\u001b[0m\u001b[0;34m\u001b[0m\u001b[0m\n\u001b[1;32m     19\u001b[0m \u001b[0;34m\u001b[0m\u001b[0m\n",
      "\u001b[0;31mTypeError\u001b[0m: 'NoneType' object is not subscriptable"
     ]
    }
   ],
   "source": [
    "start, end = lease.lease_duration(days=7)\n",
    "\n",
    "observer_reservation = []\n",
    "lease.add_device_reservation(observer_reservation, count=1, device_name=OBSERVER_DEVICE_NAME)\n",
    "try:\n",
    "    observer_lease = lease.get_lease(OBSERVER_LEASE_NAME)\n",
    "except:\n",
    "    observer_lease = lease.create_lease(OBSERVER_LEASE_NAME, observer_reservation, start_date=start, end_date=end)\n",
    "\n",
    "measured_reservation = []\n",
    "lease.add_device_reservation(measured_reservation, count=1, device_name=MEASURED_DEVICE_NAME)\n",
    "try:\n",
    "    measured_lease = lease.get_lease(MEASURED_LEASE_NAME)\n",
    "except:\n",
    "    measured_lease = lease.create_lease(MEASURED_LEASE_NAME, measured_reservation, start_date=start, end_date=end)\n",
    "\n",
    "lease.wait_for_active(observer_lease[\"id\"])\n",
    "lease.wait_for_active(measured_lease[\"id\"])\n",
    "\n",
    "observer_reservation_id = lease.get_lease(OBSERVER_LEASE_NAME)[\"reservations\"][0][\"id\"]\n",
    "measured_reservation_id = lease.get_lease(MEASURED_LEASE_NAME)[\"reservations\"][0][\"id\"]"
   ]
  },
  {
   "cell_type": "markdown",
   "id": "df02a886-0924-42f2-8d02-928d81a68971",
   "metadata": {},
   "source": [
    "Application performance: I am sure this has been done to death but it may be a good thing to do it again to get a baseline: we run 2-3 selected ML models in a CHI@Edge container and measure performance (execution time) as well as their power draw to give people an idea (maybe even a timeline for power draw) – for extra credit if we can do data taking from the camera and running ML on the device that would make it very realistic. We measure on bare metal (user deploys own device) and using CHI@Edge. \n"
   ]
  },
  {
   "cell_type": "code",
   "execution_count": 4,
   "id": "7057848e-131a-42ef-99fd-47c623b6cd6f",
   "metadata": {},
   "outputs": [
    {
     "name": "stdout",
     "output_type": "stream",
     "text": [
      "Please add this key to cc@129.114.27.80\n",
      "ssh-rsa AAAAB3NzaC1yc2EAAAADAQABAAABgQCpkiGjtMTWc2YVfO60CchMJH2yI+AkK+piazOw6TWAfUjkjwOmNfOV/ToZyKFos3IGsu3/PIw/9/CUpvTV1zQnLc+E03Okh96iJJWw9sL+t3p3FOk+8cK19XnQ8bK5kMU+JUshBoYVCl+8sJnIJQmQTRE9HquOP0ho4+FsN+gpqnqOzu69Hnmqe6ipoaZ+kGoIoeWWnhBA+Wcm23U6ujc7Fbuu6p/JU/04+6u59yQ59ulHFWPBeTTTWxyadtENKKZyEOB8FROi0HpaHEdg6NBsjaT0ZfuUUnS0RxG1RN7bPsmWzyeVeukIyIBuIM+qOrRbg0ChrGY6rL3lV3W8yKajbd6YWeO5b06CpAJYEPB20EDJdq/bTrAx6LUQ+2B3KXitJH0NH1Jx6J7tn5zedr9HcX5th+H7G1NGNqb+bac/d68I/a8ito6evgACxA3A6RZiQkAFYZnKdHjL+414Vy7MDA9pDz8esPcZGNCdJY22a/4FBy8ZwNCVptZyY5N66/0= root@zun-6c0a9d85-6ea6-42a1-afe4-4b9203683876-6799cd9d89-xzxl7\n",
      "\n"
     ]
    }
   ],
   "source": [
    "need_to_add_key = False\n",
    "try:\n",
    "    observer_container = container.get_container(\"mppowers-observer\")\n",
    "except:\n",
    "    observer_container = container.create_container(\n",
    "        \"mppowers-observer\", \n",
    "        image=\"mppowers/observer:latest\",\n",
    "        device_profiles=[\"pi_meter\"],\n",
    "        reservation_id=observer_reservation_id,\n",
    "        interactive=True,\n",
    "        exposed_ports=[\"8000\"],\n",
    "    )\n",
    "    need_to_add_key = True\n",
    "    container.wait_for_active(observer_container.uuid)\n",
    "    \n",
    "if \"No such file\" in container.execute(observer_container.uuid, 'ls /id_rsa')[\"output\"]:\n",
    "    print(\"Generating SSH key\")\n",
    "    print(container.execute(observer_container.uuid, 'ssh-keygen -t rsa -f /id_rsa -q -P \"\"')[\"output\"])\n",
    "    need_to_add_key = True\n",
    "elif \"hello\" not in container.execute(observer_container.uuid, f'ssh {SSH_OPTIONS} {SSH_CONNECTION} echo \"hello\"')[\"output\"]:\n",
    "    need_to_add_key = True\n",
    "\n",
    "if need_to_add_key:\n",
    "    print(f\"Please add this key to {SSH_CONNECTION}\")\n",
    "    print(container.execute(observer_container.uuid, 'cat /id_rsa.pub')[\"output\"])\n",
    "else:\n",
    "    print(\"Successfully connected to file transfer node\")"
   ]
  },
  {
   "cell_type": "code",
   "execution_count": 14,
   "id": "5da495b4-5c26-4a49-8d39-2ff452f10395",
   "metadata": {},
   "outputs": [
    {
     "name": "stdout",
     "output_type": "stream",
     "text": [
      "\n",
      "\n"
     ]
    }
   ],
   "source": [
    "try:\n",
    "    experiment_container = container.get_container(\"mppowers-experiment\")\n",
    "    container.destroy_container(experiment_container.uuid)\n",
    "    time.sleep(10)\n",
    "except:\n",
    "    pass\n",
    "\n",
    "# container init\n",
    "print(container.execute(observer_container.uuid, 'python3 rpc_client.py creating resnet')[\"output\"])\n",
    "experiment_container = container.create_container(\n",
    "    \"mppowers-experiment\", \n",
    "    image=\"mppowers/experimenter_mobile_net_ssd\",\n",
    "    reservation_id=measured_reservation_id,\n",
    ")\n",
    "print(container.execute(observer_container.uuid, 'python3 rpc_client.py running resnet')[\"output\"])\n"
   ]
  },
  {
   "cell_type": "code",
   "execution_count": 35,
   "id": "ecbde10a-f07d-4fee-8082-91aef286a695",
   "metadata": {},
   "outputs": [],
   "source": [
    "# Wait until container is no longer running\n",
    "while True:\n",
    "    time.sleep(1)\n",
    "    experiment_container = container.get_container(\"mppowers-experiment\")\n",
    "    if experiment_container.status != \"Running\":\n",
    "        break\n",
    "\n",
    "print(experiment_container)"
   ]
  },
  {
   "cell_type": "code",
   "execution_count": 42,
   "id": "4663cdd6-1439-42ab-bb52-f0954df43f99",
   "metadata": {},
   "outputs": [
    {
     "name": "stdout",
     "output_type": "stream",
     "text": [
      "\n"
     ]
    }
   ],
   "source": [
    "print(container.execute(observer_container.uuid, 'python3 rpc_client.py finished resnet')[\"output\"])"
   ]
  },
  {
   "cell_type": "code",
   "execution_count": 50,
   "id": "aa3d7bd5-5fd8-4cc2-ab75-546ef9b2c0ed",
   "metadata": {},
   "outputs": [
    {
     "name": "stdout",
     "output_type": "stream",
     "text": [
      "Warning: Permanently added '129.114.27.80' (ED25519) to the list of known hosts.\n",
      "\n"
     ]
    }
   ],
   "source": [
    "print(container.execute(observer_container.uuid, f'scp {SSH_OPTIONS} /out.log {SSH_CONNECTION}:.')[\"output\"])"
   ]
  },
  {
   "cell_type": "code",
   "execution_count": 49,
   "id": "1af6f6b2-bfde-4f3a-8698-933ba2086f2c",
   "metadata": {},
   "outputs": [
    {
     "name": "stdout",
     "output_type": "stream",
     "text": [
      "INFO:root:1676389500.6345718,441000.000000,5037.000000,2221317000.000000\n",
      "INFO:root:1676389500.835866,518800.000000,5031.000000,2610082800.000000\n",
      "INFO:root:1676389501.0372152,672500.000000,4965.000000,3338962500.000000\n",
      "INFO:root:1676389501.2380903,732200.000000,4956.000000,3628783200.000000\n",
      "INFO:root:1676389501.4394538,474000.000000,5041.000000,2389434000.000000\n",
      "INFO:root:1676389501.6404092,567900.000000,5002.000000,2840635800.000000\n",
      "INFO:root:1676389501.8413012,732600.000000,4966.000000,3638091600.000000\n",
      "INFO:root:1676389502.0424285,835900.000000,4932.000000,4122658800.000000\n",
      "INFO:root:1676389502.2435424,629400.000000,4986.000000,3138188400.000000\n",
      "INFO:root:1676389502.4444313,594000.000000,4996.000000,2967624000.000000\n",
      "\n"
     ]
    }
   ],
   "source": [
    "print(container.execute(observer_container.uuid, f'tail /out.log ')[\"output\"])"
   ]
  },
  {
   "cell_type": "code",
   "execution_count": 65,
   "id": "90d4e4ac-e06a-4ee2-b78e-03829498207f",
   "metadata": {},
   "outputs": [],
   "source": [
    "local_ip = list(observer_container.addresses.items())[0][1][0][\"addr\"]"
   ]
  },
  {
   "cell_type": "code",
   "execution_count": 67,
   "id": "b228f07b-eced-4bff-a906-2dd2f407d646",
   "metadata": {},
   "outputs": [
    {
     "name": "stdout",
     "output_type": "stream",
     "text": [
      "curl: (3) [globbing] bad range specification in column 2\n",
      "curl: (3) [globbing] bad range specification in column 2\n",
      "* Rebuilt URL to: 192.168.115.211,/\n",
      "  % Total    % Received % Xferd  Average Speed   Time    Time     Time  Current\n",
      "                                 Dload  Upload   Total   Spent    Left  Speed\n",
      "  0     0    0     0    0     0      0      0 --:--:-- --:--:-- --:--:--     0* Could not resolve host: 192.168.115.211,\n",
      "* Closing connection 0\n",
      "curl: (6) Could not resolve host: 192.168.115.211,\n",
      "* Rebuilt URL to: version:/\n",
      "* Could not resolve host: version\n",
      "* Closing connection 1\n",
      "curl: (6) Could not resolve host: version\n",
      "* Rebuilt URL to: 4,/\n",
      "* Could not resolve host: 4,\n",
      "* Closing connection 2\n",
      "curl: (6) Could not resolve host: 4,\n",
      "* Rebuilt URL to: port:/\n",
      "  0     0    0     0    0     0      0      0 --:--:-- --:--:-- --:--:--     0* Could not resolve host: port\n",
      "* Closing connection 3\n",
      "curl: (6) Could not resolve host: port\n",
      "curl: (3) [globbing] unmatched close brace/bracket in column 37\n",
      "\n"
     ]
    }
   ],
   "source": [
    "local_ip = list(observer_container.addresses.items())\n",
    "print(container.execute(experiment_container.uuid, f'curl -v {local_ip}:8000')[\"output\"])"
   ]
  },
  {
   "cell_type": "code",
   "execution_count": 66,
   "id": "037da543-0bc1-49b7-8dc3-28da4553ddab",
   "metadata": {},
   "outputs": [
    {
     "data": {
      "text/plain": [
       "{'output': '', 'exit_code': None, 'exec_id': None, 'proxy_url': None}"
      ]
     },
     "execution_count": 66,
     "metadata": {},
     "output_type": "execute_result"
    }
   ],
   "source": [
    "container.execute(experiment_container.uuid, f'python rpc_client.py {local_ip} test')"
   ]
  },
  {
   "cell_type": "code",
   "execution_count": 53,
   "id": "f96688e2-7f5f-4c7f-ba9e-3b7a5f647271",
   "metadata": {},
   "outputs": [
    {
     "data": {
      "text/plain": [
       "'192.168.115.215'"
      ]
     },
     "execution_count": 53,
     "metadata": {},
     "output_type": "execute_result"
    }
   ],
   "source": [
    "local_ip\n"
   ]
  },
  {
   "cell_type": "code",
   "execution_count": 7,
   "id": "8aa7f0c8-b4bd-4dd4-8a46-f1bc8eb9c9bb",
   "metadata": {},
   "outputs": [
    {
     "data": {
      "text/plain": [
       "'192.168.115.211'"
      ]
     },
     "execution_count": 7,
     "metadata": {},
     "output_type": "execute_result"
    }
   ],
   "source": [
    "list(observer_container.addresses.values())[0][0][\"addr\"]\n"
   ]
  },
  {
   "cell_type": "code",
   "execution_count": 6,
   "id": "74777322-fae3-45c9-86ff-5907691372cc",
   "metadata": {},
   "outputs": [
    {
     "ename": "RuntimeError",
     "evalue": "Container went in to error state",
     "output_type": "error",
     "traceback": [
      "\u001b[0;31m---------------------------------------------------------------------------\u001b[0m",
      "\u001b[0;31mRuntimeError\u001b[0m                              Traceback (most recent call last)",
      "\u001b[0;32m/tmp/ipykernel_217/2973905600.py\u001b[0m in \u001b[0;36m<cell line: 1>\u001b[0;34m()\u001b[0m\n\u001b[0;32m----> 1\u001b[0;31m experiment_container = container.create_container(\n\u001b[0m\u001b[1;32m      2\u001b[0m     \u001b[0;34m\"mppowers-experiment\"\u001b[0m\u001b[0;34m,\u001b[0m\u001b[0;34m\u001b[0m\u001b[0;34m\u001b[0m\u001b[0m\n\u001b[1;32m      3\u001b[0m     \u001b[0mimage\u001b[0m\u001b[0;34m=\u001b[0m\u001b[0;34m\"hello-world\"\u001b[0m\u001b[0;34m,\u001b[0m\u001b[0;34m\u001b[0m\u001b[0;34m\u001b[0m\u001b[0m\n\u001b[1;32m      4\u001b[0m     \u001b[0mreservation_id\u001b[0m\u001b[0;34m=\u001b[0m\u001b[0;34m\"751004b6-c930-4325-ab7c-09b17e943d07\"\u001b[0m\u001b[0;34m,\u001b[0m\u001b[0;34m\u001b[0m\u001b[0;34m\u001b[0m\u001b[0m\n\u001b[1;32m      5\u001b[0m     \u001b[0minteractive\u001b[0m\u001b[0;34m=\u001b[0m\u001b[0;32mTrue\u001b[0m\u001b[0;34m,\u001b[0m\u001b[0;34m\u001b[0m\u001b[0;34m\u001b[0m\u001b[0m\n",
      "\u001b[0;32m/opt/conda/lib/python3.10/site-packages/chi/container.py\u001b[0m in \u001b[0;36mcreate_container\u001b[0;34m(name, image, exposed_ports, reservation_id, start, start_timeout, platform_version, **kwargs)\u001b[0m\n\u001b[1;32m    111\u001b[0m \u001b[0;34m\u001b[0m\u001b[0m\n\u001b[1;32m    112\u001b[0m     \u001b[0;32mif\u001b[0m \u001b[0mplatform_version\u001b[0m \u001b[0;34m==\u001b[0m \u001b[0;36m2\u001b[0m\u001b[0;34m:\u001b[0m\u001b[0;34m\u001b[0m\u001b[0;34m\u001b[0m\u001b[0m\n\u001b[0;32m--> 113\u001b[0;31m         \u001b[0mcontainer\u001b[0m \u001b[0;34m=\u001b[0m \u001b[0m_wait_for_status\u001b[0m\u001b[0;34m(\u001b[0m\u001b[0mcontainer\u001b[0m\u001b[0;34m.\u001b[0m\u001b[0muuid\u001b[0m\u001b[0;34m,\u001b[0m \u001b[0;34m\"Running\"\u001b[0m\u001b[0;34m,\u001b[0m \u001b[0mtimeout\u001b[0m\u001b[0;34m=\u001b[0m\u001b[0mtimeout\u001b[0m\u001b[0;34m)\u001b[0m\u001b[0;34m\u001b[0m\u001b[0;34m\u001b[0m\u001b[0m\n\u001b[0m\u001b[1;32m    114\u001b[0m     \u001b[0;32melse\u001b[0m\u001b[0;34m:\u001b[0m\u001b[0;34m\u001b[0m\u001b[0;34m\u001b[0m\u001b[0m\n\u001b[1;32m    115\u001b[0m         \u001b[0mcontainer\u001b[0m \u001b[0;34m=\u001b[0m \u001b[0m_wait_for_status\u001b[0m\u001b[0;34m(\u001b[0m\u001b[0mcontainer\u001b[0m\u001b[0;34m.\u001b[0m\u001b[0muuid\u001b[0m\u001b[0;34m,\u001b[0m \u001b[0;34m\"Created\"\u001b[0m\u001b[0;34m,\u001b[0m \u001b[0mtimeout\u001b[0m\u001b[0;34m=\u001b[0m\u001b[0mtimeout\u001b[0m\u001b[0;34m)\u001b[0m\u001b[0;34m\u001b[0m\u001b[0;34m\u001b[0m\u001b[0m\n",
      "\u001b[0;32m/opt/conda/lib/python3.10/site-packages/chi/container.py\u001b[0m in \u001b[0;36m_wait_for_status\u001b[0;34m(container_ref, status, timeout)\u001b[0m\n\u001b[1;32m    255\u001b[0m         \u001b[0mcontainer\u001b[0m \u001b[0;34m=\u001b[0m \u001b[0mget_container\u001b[0m\u001b[0;34m(\u001b[0m\u001b[0mcontainer_ref\u001b[0m\u001b[0;34m)\u001b[0m\u001b[0;34m\u001b[0m\u001b[0;34m\u001b[0m\u001b[0m\n\u001b[1;32m    256\u001b[0m         \u001b[0;32mif\u001b[0m \u001b[0mcontainer\u001b[0m\u001b[0;34m.\u001b[0m\u001b[0mstatus\u001b[0m \u001b[0;34m==\u001b[0m \u001b[0;34m\"Error\"\u001b[0m\u001b[0;34m:\u001b[0m\u001b[0;34m\u001b[0m\u001b[0;34m\u001b[0m\u001b[0m\n\u001b[0;32m--> 257\u001b[0;31m             \u001b[0;32mraise\u001b[0m \u001b[0mRuntimeError\u001b[0m\u001b[0;34m(\u001b[0m\u001b[0;34m\"Container went in to error state\"\u001b[0m\u001b[0;34m)\u001b[0m\u001b[0;34m\u001b[0m\u001b[0;34m\u001b[0m\u001b[0m\n\u001b[0m\u001b[1;32m    258\u001b[0m         \u001b[0;32melif\u001b[0m \u001b[0mcontainer\u001b[0m\u001b[0;34m.\u001b[0m\u001b[0mstatus\u001b[0m \u001b[0;34m==\u001b[0m \u001b[0mstatus\u001b[0m\u001b[0;34m:\u001b[0m\u001b[0;34m\u001b[0m\u001b[0;34m\u001b[0m\u001b[0m\n\u001b[1;32m    259\u001b[0m             \u001b[0;32mreturn\u001b[0m \u001b[0mcontainer\u001b[0m\u001b[0;34m\u001b[0m\u001b[0;34m\u001b[0m\u001b[0m\n",
      "\u001b[0;31mRuntimeError\u001b[0m: Container went in to error state"
     ]
    }
   ],
   "source": [
    "experiment_container = container.create_container(\n",
    "    \"mppowers-experiment\", \n",
    "    image=\"hello-world\",\n",
    "    reservation_id=\"751004b6-c930-4325-ab7c-09b17e943d07\",\n",
    "    interactive=True,\n",
    ")\n"
   ]
  },
  {
   "cell_type": "code",
   "execution_count": null,
   "id": "93b8d7c2-9674-4f6b-91ba-25eb5b31f847",
   "metadata": {},
   "outputs": [],
   "source": []
  }
 ],
 "metadata": {
  "kernelspec": {
   "display_name": "Python 3 (ipykernel)",
   "language": "python",
   "name": "python3"
  },
  "language_info": {
   "codemirror_mode": {
    "name": "ipython",
    "version": 3
   },
   "file_extension": ".py",
   "mimetype": "text/x-python",
   "name": "python",
   "nbconvert_exporter": "python",
   "pygments_lexer": "ipython3",
   "version": "3.10.9"
  }
 },
 "nbformat": 4,
 "nbformat_minor": 5
}
